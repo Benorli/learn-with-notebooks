{
 "cells": [
  {
   "cell_type": "markdown",
   "metadata": {},
   "source": [
    "# Get Python to do the Math for You\n",
    "\n",
    "Math can help you understand a lot of methods in data science. Solving equations by hand can be time consuming and error prone, especially if it's not your day job. Luckily, Python can handle the boring parts for you so you can focus on understanding how it works, and getting things done.\n",
    "\n",
    "## Contents\n",
    "\n",
    "[Setup](#Setup)<br>\n",
    "[Plotting a function](#Plotting-a-function)<br>\n",
    "[Partial Functions (Fixing Variables)](#Partial-Functions-(Fixing-Variables))<br>\n",
    "[Re-arange a simple equation](#Re-arange-a-simple-equation)<br>"
   ]
  },
  {
   "cell_type": "markdown",
   "metadata": {},
   "source": [
    "## Setup"
   ]
  },
  {
   "cell_type": "code",
   "execution_count": 10,
   "metadata": {},
   "outputs": [],
   "source": [
    "import sympy as sym\n",
    "from sympy import symbols, plot, lambdify, sympify, diff, Sum, IndexedBase, Eq, solve\n",
    "import numpy as np\n",
    "\n",
    "# plotting\n",
    "import seaborn as sns"
   ]
  },
  {
   "cell_type": "code",
   "execution_count": 2,
   "metadata": {},
   "outputs": [],
   "source": [
    "# set plot style for dark mode (not necessary to understand the notebook)\n",
    "sns.set_theme(rc={\n",
    "                  'font.size': 10,\n",
    "                  'xtick.labelsize': 8,\n",
    "                  'ytick.labelsize': 8,\n",
    "                  'axes.labelsize': 8,\n",
    "                  'axes.spines.right': False,\n",
    "                  'axes.spines.top': False,\n",
    "                  'axes.facecolor': '#1E1E1E',  # Very dark gray\n",
    "                  'figure.facecolor': '#1E1E1E',  # Very dark gray\n",
    "                  'axes.grid': False,\n",
    "                  'xtick.color': 'w',  # White x-axis tick labels\n",
    "                  'ytick.color': 'w',  # White y-axis tick labels\n",
    "                  'text.color': 'w',  # White text\n",
    "                  'axes.labelcolor': 'w',  # White axis labels\n",
    "                  'figure.titlesize': 'large',  # Set the size of the figure title\n",
    "                  'figure.titleweight': 'bold',  # Set the weight of the figure title\n",
    "              })\n",
    "\n",
    "# store a colour palette\n",
    "col_pal = sns.color_palette(\"muted\")\n",
    "sns.set_palette(col_pal)"
   ]
  },
  {
   "cell_type": "code",
   "execution_count": 1,
   "metadata": {},
   "outputs": [],
   "source": [
    "# supress unhelpful warnings\n",
    "import warnings\n",
    "\n",
    "# this is an issue within the seaborn library and will likely be fixed in the future\n",
    "warnings.filterwarnings(\"ignore\", category=FutureWarning)"
   ]
  },
  {
   "cell_type": "markdown",
   "metadata": {},
   "source": [
    "## Plotting a function\n",
    "\n",
    "If you can plot a function, for many of us (me included) it's the best way to wrap your head around it.\n",
    "\n",
    "Let's plot the function $3x^2 + 2x + 1$ over the interval $[-5, 5]$"
   ]
  },
  {
   "cell_type": "code",
   "execution_count": 4,
   "metadata": {},
   "outputs": [
    {
     "data": {
      "image/png": "[encoded data removed]",
      "text/plain": [
       "<Figure size 640x480 with 1 Axes>"
      ]
     },
     "metadata": {},
     "output_type": "display_data"
    }
   ],
   "source": [
    "x = symbols('x')\n",
    "f = 3*x**2 + 2*x + 1\n",
    "\n",
    "# Plot the function f over the range x = [-5, 5].\n",
    "plot(f, (x, -5, 5));"
   ]
  },
  {
   "cell_type": "code",
   "execution_count": 5,
   "metadata": {},
   "outputs": [
    {
     "data": {
      "text/latex": [
       "$\\displaystyle 3 x^{2} + 2 x + 1$"
      ],
      "text/plain": [
       "3*x**2 + 2*x + 1"
      ]
     },
     "execution_count": 5,
     "metadata": {},
     "output_type": "execute_result"
    }
   ],
   "source": [
    "# we still have access to the equation f, until we overwrite it\n",
    "f"
   ]
  },
  {
   "cell_type": "markdown",
   "metadata": {},
   "source": [
    "## Partial Functions (Fixing Variables)\n",
    "\n",
    "This is something you might be able to work out with standard python. For example:"
   ]
  },
  {
   "cell_type": "code",
   "execution_count": 6,
   "metadata": {},
   "outputs": [
    {
     "data": {
      "text/plain": [
       "17"
      ]
     },
     "execution_count": 6,
     "metadata": {},
     "output_type": "execute_result"
    }
   ],
   "source": [
    "def quad(a, b, c, x):\n",
    "    \"\"\"\n",
    "    Returns the value of the quadratic equation ax^2 + bx + c for a given value of x.\n",
    "\n",
    "    Parameters:\n",
    "    a (float): The coefficient of x^2.\n",
    "    b (float): The coefficient of x.\n",
    "    c (float): The constant term.\n",
    "    x (float): The value of x.\n",
    "\n",
    "    Returns:\n",
    "    float: The value of the quadratic equation ax^2 + bx + c for the given value of x.\n",
    "    \"\"\"\n",
    "    return a*x**2 + b*x + c\n",
    "    \n",
    "quad(3, 2, 1, 2)"
   ]
  },
  {
   "cell_type": "markdown",
   "metadata": {},
   "source": [
    "You simplify only modify the value of x, or fix the values of a, b, and and c within the function. However, there are some handy tools to add to the mix...\n",
    "\n",
    "We can create a similar function to the one above using lambdify."
   ]
  },
  {
   "cell_type": "code",
   "execution_count": 7,
   "metadata": {},
   "outputs": [
    {
     "data": {
      "text/plain": [
       "17"
      ]
     },
     "execution_count": 7,
     "metadata": {},
     "output_type": "execute_result"
    }
   ],
   "source": [
    "a, b, c, x = symbols('a b c x')\n",
    "expr = a*x**2 + b*x + c\n",
    "\n",
    "f_lamb = lambdify((x,), expr.subs({a: 3, b: 2, c: 1}))\n",
    "f_lamb(2)"
   ]
  },
  {
   "cell_type": "markdown",
   "metadata": {},
   "source": [
    "If we want a sympy equation as an output though, we can do the follwing:"
   ]
  },
  {
   "cell_type": "code",
   "execution_count": 8,
   "metadata": {},
   "outputs": [
    {
     "data": {
      "text/latex": [
       "$\\displaystyle 17$"
      ],
      "text/plain": [
       "17"
      ]
     },
     "execution_count": 8,
     "metadata": {},
     "output_type": "execute_result"
    }
   ],
   "source": [
    "a, b, c, x = symbols('a b c x')\n",
    "expr = a*x**2 + b*x + c\n",
    "\n",
    "f_eq = expr.subs({a: 3, b: 2, c: 1})\n",
    "\n",
    "f_eq.subs({x: 2})"
   ]
  },
  {
   "cell_type": "markdown",
   "metadata": {},
   "source": [
    "This is an example of a partial function. We fix a, b, and c, and then it's easier to explore what happens when we vary x. It works the same way as partial from  functools. I give an example of that below."
   ]
  },
  {
   "cell_type": "code",
   "execution_count": 9,
   "metadata": {},
   "outputs": [
    {
     "data": {
      "text/plain": [
       "17"
      ]
     },
     "execution_count": 9,
     "metadata": {},
     "output_type": "execute_result"
    }
   ],
   "source": [
    "from functools import partial\n",
    "\n",
    "partial_quad = partial(quad, 3, 2, 1)\n",
    "partial_quad(2)"
   ]
  },
  {
   "cell_type": "markdown",
   "metadata": {},
   "source": [
    "If we plot this partial function we get exactly the same result as above. Remember this is using this definition: <br> \n",
    "```f_eq = expr.subs({a: 3, b: 2, c: 1})``` <br>\n",
    "The plot function requires a sympy expression, so we can't use the partial function from functools or the lambdify function directly."
   ]
  },
  {
   "cell_type": "code",
   "execution_count": 10,
   "metadata": {},
   "outputs": [
    {
     "data": {
      "image/png": "[encoded data removed]",
      "text/plain": [
       "<Figure size 640x480 with 1 Axes>"
      ]
     },
     "metadata": {},
     "output_type": "display_data"
    }
   ],
   "source": [
    "plot(f, (x, -5, 5));"
   ]
  },
  {
   "cell_type": "markdown",
   "metadata": {},
   "source": [
    "If you want to use the partial function from functools, or the lambdify function, there is an example below.\n",
    "\n",
    "This also allows you to easily add noise etc. to the function."
   ]
  },
  {
   "cell_type": "code",
   "execution_count": 15,
   "metadata": {},
   "outputs": [
    {
     "data": {
      "image/png": "[encoded data removed]",
      "text/plain": [
       "<Figure size 640x480 with 1 Axes>"
      ]
     },
     "metadata": {},
     "output_type": "display_data"
    }
   ],
   "source": [
    "x = np.linspace(-5, 5, 100)\n",
    "f_lamb(x)\n",
    "sns.lineplot(x=x, y=f_lamb(x));"
   ]
  },
  {
   "cell_type": "code",
   "execution_count": 19,
   "metadata": {},
   "outputs": [
    {
     "data": {
      "image/png": "[encoded data removed]",
      "text/plain": [
       "<Figure size 640x480 with 1 Axes>"
      ]
     },
     "metadata": {},
     "output_type": "display_data"
    }
   ],
   "source": [
    "np.random.seed(42)\n",
    "\n",
    "def add_noise(x, mult, add):\n",
    "    \"\"\"\n",
    "    Adds random noise to a given value.\n",
    "\n",
    "    Parameters:\n",
    "    x (float): The value to add noise to.\n",
    "    mult (float): The standard deviation of the multiplicative noise.\n",
    "    add (float): The standard deviation of the additive noise.\n",
    "\n",
    "    Returns:\n",
    "    float: The noisy value.\n",
    "    \"\"\"\n",
    "    noise_mult = 1 + normal(scale=mult, size=x.shape)\n",
    "    noise_add = normal(scale=add, size=x.shape)\n",
    "    return x * noise_mult + noise_add \n",
    "\n",
    "y = add_noise(f(x), 0.3, 1.5)\n",
    "\n",
    "sns.scatterplot(x=x, y=y);"
   ]
  },
  {
   "cell_type": "markdown",
   "metadata": {},
   "source": [
    "---"
   ]
  },
  {
   "cell_type": "markdown",
   "metadata": {},
   "source": [
    "## Re-arange a simple equation\n",
    "\n",
    "To find the number of sides \\( N \\) in a regular polygon given one of its interior angles $ \\text{Degrees} $, we can use the formula for the interior angle of a regular polygon:\n",
    "\n",
    "\n",
    "$\\text{Interior angle} = \\frac{(N - 2) \\times 180^\\circ}{N}$\n",
    "\n",
    "What if we had the interior angle and we want to find N? We can use sympy to re-arange this equation for us."
   ]
  },
  {
   "cell_type": "code",
   "execution_count": 8,
   "metadata": {},
   "outputs": [
    {
     "data": {
      "text/latex": [
       "$\\displaystyle i = \\frac{180 n - 360}{n}$"
      ],
      "text/plain": [
       "Eq(i, (180*n - 360)/n)"
      ]
     },
     "execution_count": 8,
     "metadata": {},
     "output_type": "execute_result"
    }
   ],
   "source": [
    "# n = n sides\n",
    "# i = interior angle\n",
    "n, i = symbols('n i')\n",
    "eq = Eq(i, ((n-2) * 180) / n)\n",
    "eq"
   ]
  },
  {
   "cell_type": "code",
   "execution_count": 29,
   "metadata": {},
   "outputs": [
    {
     "data": {
      "text/latex": [
       "$\\displaystyle - \\frac{360}{i - 180}$"
      ],
      "text/plain": [
       "-360/(i - 180)"
      ]
     },
     "metadata": {},
     "output_type": "display_data"
    },
    {
     "data": {
      "text/plain": [
       "2.0338983050847457"
      ]
     },
     "execution_count": 29,
     "metadata": {},
     "output_type": "execute_result"
    }
   ],
   "source": [
    "eq_i = solve(eq, n)[0]\n",
    "display(eq_i)\n",
    "\n",
    "f = lambdify((i,), eq_i)\n",
    "f(3)"
   ]
  },
  {
   "cell_type": "code",
   "execution_count": 25,
   "metadata": {},
   "outputs": [
    {
     "data": {
      "text/latex": [
       "$\\displaystyle 3 = \\frac{180 n - 360}{n}$"
      ],
      "text/plain": [
       "Eq(3, (180*n - 360)/n)"
      ]
     },
     "metadata": {},
     "output_type": "display_data"
    },
    {
     "data": {
      "text/latex": [
       "$\\displaystyle 2.03389830508475$"
      ],
      "text/plain": [
       "2.03389830508475"
      ]
     },
     "metadata": {},
     "output_type": "display_data"
    },
    {
     "data": {
      "text/latex": [
       "$\\displaystyle \\frac{120}{59}$"
      ],
      "text/plain": [
       "120/59"
      ]
     },
     "metadata": {},
     "output_type": "display_data"
    }
   ],
   "source": [
    "display(eq.subs({i: 3}))\n",
    "display(eq_i.subs({i: 3}).evalf())\n",
    "display(eq_i.subs({i: 3}))"
   ]
  },
  {
   "cell_type": "markdown",
   "metadata": {},
   "source": [
    "---"
   ]
  },
  {
   "cell_type": "markdown",
   "metadata": {},
   "source": [
    "## Calculate the derivative of a function"
   ]
  },
  {
   "cell_type": "code",
   "execution_count": 2,
   "metadata": {},
   "outputs": [
    {
     "name": "stdout",
     "output_type": "stream",
     "text": [
      "Derivative expression: 2*a*x + b\n",
      "Derivative after substitution: 6*x + 2\n",
      "Derivative evaluated at x=1: 8\n"
     ]
    }
   ],
   "source": [
    "# Define symbols and expression\n",
    "a, b, c, x = symbols('a b c x')\n",
    "expr = a*x**2 + b*x + c\n",
    "\n",
    "# Compute the derivative\n",
    "derivative_expr = diff(expr, x)\n",
    "\n",
    "# Substitute values a=3, b=2, c=1 into the derivative\n",
    "derivative_substituted = derivative_expr.subs({a: 3, b: 2, c: 1})\n",
    "\n",
    "# Optionally, evaluate the derivative at a specific x-value, e.g., x=1\n",
    "derivative_at_point = derivative_substituted.subs(x, 1)\n",
    "\n",
    "print(\"Derivative expression:\", derivative_expr)\n",
    "print(\"Derivative after substitution:\", derivative_substituted)\n",
    "print(\"Derivative evaluated at x=1:\", derivative_at_point)\n"
   ]
  },
  {
   "cell_type": "code",
   "execution_count": 11,
   "metadata": {},
   "outputs": [
    {
     "name": "stdout",
     "output_type": "stream",
     "text": [
      "Derivative of MSE with respect to a: Sum(-2*(-a*x[i] - b + y[i])*x[i], (i, 1, N))/N\n",
      "Derivative of MSE with respect to b: Sum(2*a*x[i] + 2*b - 2*y[i], (i, 1, N))/N\n",
      "Derivative of MSE with respect to x[i]: Sum(-2*a*(-a*x[i] - b + y[i]), (i, 1, N))/N\n"
     ]
    }
   ],
   "source": [
    "# Define symbols\n",
    "a, b = symbols('a b')\n",
    "N = symbols('N', integer=True)\n",
    "i = symbols('i', integer=True)\n",
    "x = IndexedBase('x')\n",
    "y = IndexedBase('y')\n",
    "\n",
    "# Define the function and the loss function\n",
    "f_x = a * x[i] + b\n",
    "mse = (1 / N) * Sum((y[i] - f_x)**2, (i, 1, N))\n",
    "\n",
    "# Compute the derivatives of the loss function\n",
    "derivative_mse_a = diff(mse, a)\n",
    "derivative_mse_b = diff(mse, b)\n",
    "derivative_mse_x = diff(mse, x[i])\n",
    "\n",
    "print(\"Derivative of MSE with respect to a:\", derivative_mse_a)\n",
    "print(\"Derivative of MSE with respect to b:\", derivative_mse_b)\n",
    "print(\"Derivative of MSE with respect to x[i]:\", derivative_mse_x)\n"
   ]
  },
  {
   "cell_type": "code",
   "execution_count": 5,
   "metadata": {},
   "outputs": [
    {
     "data": {
      "text/latex": [
       "$\\displaystyle \\frac{\\sum_{i=1}^{N} \\left(- a {x}_{i} - b + {y}_{i}\\right)^{2}}{N}$"
      ],
      "text/plain": [
       "Sum((-a*x[i] - b + y[i])**2, (i, 1, N))/N"
      ]
     },
     "execution_count": 5,
     "metadata": {},
     "output_type": "execute_result"
    }
   ],
   "source": [
    "mse"
   ]
  },
  {
   "cell_type": "code",
   "execution_count": 12,
   "metadata": {},
   "outputs": [
    {
     "data": {
      "text/latex": [
       "$\\displaystyle \\frac{\\sum_{i=1}^{N} - 2 a \\left(- a {x}_{i} - b + {y}_{i}\\right)}{N}$"
      ],
      "text/plain": [
       "Sum(-2*a*(-a*x[i] - b + y[i]), (i, 1, N))/N"
      ]
     },
     "execution_count": 12,
     "metadata": {},
     "output_type": "execute_result"
    }
   ],
   "source": [
    "derivative_mse_x"
   ]
  },
  {
   "cell_type": "code",
   "execution_count": null,
   "metadata": {},
   "outputs": [],
   "source": []
  }
 ],
 "metadata": {
  "kernelspec": {
   "display_name": "envlearn",
   "language": "python",
   "name": "python3"
  },
  "language_info": {
   "codemirror_mode": {
    "name": "ipython",
    "version": 3
   },
   "file_extension": ".py",
   "mimetype": "text/x-python",
   "name": "python",
   "nbconvert_exporter": "python",
   "pygments_lexer": "ipython3",
   "version": "3.11.2"
  },
  "orig_nbformat": 4
 },
 "nbformat": 4,
 "nbformat_minor": 2
}
