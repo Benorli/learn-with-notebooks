{
 "cells": [
  {
   "cell_type": "markdown",
   "metadata": {},
   "source": [
    "# Gradient Descent\n",
    "\n",
    "Gradient descent explained in a notebook.\n",
    "\n",
    "## Contents\n",
    "\n",
    "[Setup](#setup) <br>\n",
    "[Create Function](#create-function) <br>\n",
    "[Generate Demo Data Based on the Function](#generate-demo-data-based-on-the-function) <br>\n",
    "[Explore Fitting the Function by Hand](#explore-fitting-the-function-by-hand) <br>"
   ]
  },
  {
   "cell_type": "markdown",
   "metadata": {},
   "source": [
    "## Setup"
   ]
  },
  {
   "cell_type": "code",
   "execution_count": 1,
   "metadata": {},
   "outputs": [],
   "source": [
    "import sympy as sym\n",
    "from sympy import symbols, lambdify\n",
    "import numpy as np\n",
    "from numpy.random import normal\n",
    "\n",
    "# plotting\n",
    "import seaborn as sns\n",
    "\n",
    "# widgets\n",
    "from ipywidgets import interact"
   ]
  },
  {
   "cell_type": "code",
   "execution_count": 2,
   "metadata": {},
   "outputs": [],
   "source": [
    "# set plot style for dark mode (not necessary to understand the notebook)\n",
    "sns.set_theme(rc={\n",
    "                  'font.size': 10,\n",
    "                  'xtick.labelsize': 8,\n",
    "                  'ytick.labelsize': 8,\n",
    "                  'axes.labelsize': 8,\n",
    "                  'axes.spines.right': False,\n",
    "                  'axes.spines.top': False,\n",
    "                  'axes.facecolor': '#1E1E1E',  # Very dark gray\n",
    "                  'figure.facecolor': '#1E1E1E',  # Very dark gray\n",
    "                  'axes.grid': False,\n",
    "                  'xtick.color': 'w',  # White x-axis tick labels\n",
    "                  'ytick.color': 'w',  # White y-axis tick labels\n",
    "                  'text.color': 'w',  # White text\n",
    "                  'axes.labelcolor': 'w',  # White axis labels\n",
    "                  'figure.titlesize': 'large',  # Set the size of the figure title\n",
    "                  'figure.titleweight': 'bold',  # Set the weight of the figure title\n",
    "              })\n",
    "\n",
    "# store a colour palette\n",
    "col_pal = sns.color_palette(\"muted\")\n",
    "sns.set_palette(col_pal)"
   ]
  },
  {
   "cell_type": "code",
   "execution_count": 4,
   "metadata": {},
   "outputs": [],
   "source": [
    "# function definitions (not necessary to understand the notebook)\n",
    "\n",
    "# set the seed for reproducibility\n",
    "np.random.seed(42)\n",
    "\n",
    "def add_noise(x, mult, add):\n",
    "    \"\"\"\n",
    "    Adds random noise to a given value.\n",
    "\n",
    "    Parameters:\n",
    "    x (float): The value to add noise to.\n",
    "    mult (float): The standard deviation of the multiplicative noise.\n",
    "    add (float): The standard deviation of the additive noise.\n",
    "\n",
    "    Returns:\n",
    "    float: The noisy value.\n",
    "    \"\"\"\n",
    "    noise_mult = 1 + normal(scale=mult, size=x.shape)\n",
    "    noise_add = normal(scale=add, size=x.shape)\n",
    "    return x * noise_mult + noise_add "
   ]
  },
  {
   "cell_type": "code",
   "execution_count": 3,
   "metadata": {},
   "outputs": [],
   "source": [
    "# supress unhelpful warnings (not necessary to understand the notebook)\n",
    "import warnings\n",
    "\n",
    "# this is an issue within the seaborn library and will likely be fixed in the future\n",
    "warnings.filterwarnings(\"ignore\", category=FutureWarning)"
   ]
  },
  {
   "cell_type": "markdown",
   "metadata": {},
   "source": [
    "## Create Function"
   ]
  },
  {
   "cell_type": "code",
   "execution_count": 5,
   "metadata": {},
   "outputs": [
    {
     "data": {
      "text/latex": [
       "$\\displaystyle a x^{2} + b x + c$"
      ],
      "text/plain": [
       "a*x**2 + b*x + c"
      ]
     },
     "execution_count": 5,
     "metadata": {},
     "output_type": "execute_result"
    }
   ],
   "source": [
    "a, b, c, x = symbols('a b c x')\n",
    "expr = a*x**2 + b*x + c\n",
    "expr"
   ]
  },
  {
   "cell_type": "code",
   "execution_count": 6,
   "metadata": {},
   "outputs": [
    {
     "data": {
      "text/latex": [
       "$\\displaystyle 3 x^{2} + 2 x + 1$"
      ],
      "text/plain": [
       "3*x**2 + 2*x + 1"
      ]
     },
     "execution_count": 6,
     "metadata": {},
     "output_type": "execute_result"
    }
   ],
   "source": [
    "expr.subs({a: 3, b: 2, c: 1})"
   ]
  },
  {
   "cell_type": "code",
   "execution_count": 7,
   "metadata": {},
   "outputs": [
    {
     "data": {
      "text/plain": [
       "17"
      ]
     },
     "execution_count": 7,
     "metadata": {},
     "output_type": "execute_result"
    }
   ],
   "source": [
    "# turn expression into a function\n",
    "f = lambdify((x,), expr.subs({a: 3, b: 2, c: 1}))\n",
    "\n",
    "f(2)"
   ]
  },
  {
   "cell_type": "code",
   "execution_count": 8,
   "metadata": {},
   "outputs": [
    {
     "data": {
      "image/png": "[encoded data removed]",
      "text/plain": [
       "<Figure size 640x480 with 1 Axes>"
      ]
     },
     "metadata": {},
     "output_type": "display_data"
    }
   ],
   "source": [
    "x = np.linspace(-2, 2, 40)\n",
    "sns.lineplot(x=x, y=f(x));"
   ]
  },
  {
   "cell_type": "markdown",
   "metadata": {},
   "source": [
    "## Generate Demo Data Based on the Function\n",
    "\n",
    "Add noise to the function."
   ]
  },
  {
   "cell_type": "code",
   "execution_count": 11,
   "metadata": {},
   "outputs": [
    {
     "data": {
      "image/png": "[encoded data removed]",
      "text/plain": [
       "<Figure size 640x480 with 1 Axes>"
      ]
     },
     "metadata": {},
     "output_type": "display_data"
    }
   ],
   "source": [
    "# fix x and y values\n",
    "x_vals = np.linspace(-2, 2, 40)\n",
    "y_vals = add_noise(f(x_vals), 0.3, 1.5)\n",
    "\n",
    "sns.scatterplot(x=x_vals, y=y_vals);"
   ]
  },
  {
   "cell_type": "markdown",
   "metadata": {},
   "source": [
    "## Explore Fitting the function by hand"
   ]
  },
  {
   "cell_type": "code",
   "execution_count": 17,
   "metadata": {},
   "outputs": [
    {
     "data": {
      "application/vnd.jupyter.widget-view+json": {
       "model_id": "897b500d815e49d0961324adc3faf887",
       "version_major": 2,
       "version_minor": 0
      },
      "text/plain": [
       "interactive(children=(FloatSlider(value=1.5, description='a', max=4.5, min=-1.5), FloatSlider(value=1.5, descr…"
      ]
     },
     "metadata": {},
     "output_type": "display_data"
    }
   ],
   "source": [
    "# set expression\n",
    "a, b, c, x = symbols('a b c x')\n",
    "expr = a*x**2 + b*x + c\n",
    "\n",
    "# Create a function\n",
    "f_lambdified = lambdify((x, a, b, c), expr)\n",
    "\n",
    "\n",
    "\n",
    "@interact(a=1.5, b=1.5, c=1.5)\n",
    "def plot_quad(a=1.5, b=1.5, c=1.5):\n",
    "    sns.scatterplot(x=x_vals, y=y_vals)\n",
    "    \n",
    "    # Evaluate the lambdified function with the numerical values of a, b, c\n",
    "    y_fit = f_lambdified(x_vals, a, b, c)\n",
    "    sns.lineplot(x=x_vals, y=y_fit).set(ylim=(-2, 20))\n"
   ]
  },
  {
   "cell_type": "markdown",
   "metadata": {},
   "source": [
    "## Create a Loss Function"
   ]
  },
  {
   "cell_type": "code",
   "execution_count": 13,
   "metadata": {},
   "outputs": [],
   "source": [
    "def mse(real, predicted):\n",
    "    \"\"\"\n",
    "Calculates the mean squared error between the real and predicted values.\n",
    "\n",
    "Parameters:\n",
    "real (numpy.ndarray): The real values.\n",
    "predicted (numpy.ndarray): The predicted values.\n",
    "\n",
    "Returns:\n",
    "float: The mean squared error between the real and predicted values.\n",
    "\"\"\"\n",
    "    return np.mean((real - predicted)**2)"
   ]
  },
  {
   "cell_type": "code",
   "execution_count": 16,
   "metadata": {},
   "outputs": [
    {
     "data": {
      "application/vnd.jupyter.widget-view+json": {
       "model_id": "e2e1c30ab3e548aa8215e1bbd9d5692b",
       "version_major": 2,
       "version_minor": 0
      },
      "text/plain": [
       "interactive(children=(FloatSlider(value=1.5, description='a', max=4.5, min=-1.5), FloatSlider(value=1.5, descr…"
      ]
     },
     "metadata": {},
     "output_type": "display_data"
    }
   ],
   "source": [
    "@interact(a=1.5, b=1.5, c=1.5)\n",
    "def plot_quad(a=1.5, b=1.5, c=1.5):\n",
    "    sns.scatterplot(x=x_vals, y=y_vals)\n",
    "    \n",
    "    # Evaluate the lambdified function with the numerical values of a, b, c\n",
    "    y_fit = f_lambdified(x_vals, a, b, c)\n",
    "    loss = mse(y_vals, y_fit)\n",
    "    sns.lineplot(x=x_vals, y=y_fit).set(ylim=(-2, 20), \n",
    "                                        title=f\"MSE: {loss:.2f}\")"
   ]
  },
  {
   "cell_type": "code",
   "execution_count": 21,
   "metadata": {},
   "outputs": [],
   "source": [
    "def quad_mse(a, b, c):\n",
    "    f = lambdify((x,), expr.subs({'a': a, 'b': b, 'c': c}))\n",
    "    return mse(f(x_vals), y_vals)"
   ]
  },
  {
   "cell_type": "code",
   "execution_count": 22,
   "metadata": {},
   "outputs": [
    {
     "data": {
      "text/plain": [
       "10.915640238579467"
      ]
     },
     "execution_count": 22,
     "metadata": {},
     "output_type": "execute_result"
    }
   ],
   "source": [
    "quad_mse(1.5, 1.5, 1.5)"
   ]
  },
  {
   "cell_type": "code",
   "execution_count": null,
   "metadata": {},
   "outputs": [],
   "source": []
  }
 ],
 "metadata": {
  "kernelspec": {
   "display_name": "envlearn",
   "language": "python",
   "name": "python3"
  },
  "language_info": {
   "codemirror_mode": {
    "name": "ipython",
    "version": 3
   },
   "file_extension": ".py",
   "mimetype": "text/x-python",
   "name": "python",
   "nbconvert_exporter": "python",
   "pygments_lexer": "ipython3",
   "version": "3.11.2"
  },
  "orig_nbformat": 4
 },
 "nbformat": 4,
 "nbformat_minor": 2
}
