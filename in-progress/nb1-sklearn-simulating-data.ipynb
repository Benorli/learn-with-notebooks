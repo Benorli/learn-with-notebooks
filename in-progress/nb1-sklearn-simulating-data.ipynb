{
 "cells": [
  {
   "cell_type": "markdown",
   "metadata": {},
   "source": [
    "# Generating Fake Data with Scikit-Learn\n",
    "\n",
    "*Many* libraries including sklearn and pytorch allow you to import real world datasets to test.\n",
    "\n",
    "However, sometimes it helps to generate data with specific properties you are interested in. For learning and reimmersion it can be beneficial to add random inputs to your data generation function, generate a new dataset and practice your skills on it.\n",
    "\n",
    "## Contents\n",
    "\n",
    "[Import](#import) <br>\n",
    "[Boolean variables](#boolean-variables) <br>\n",
    "[Categorical variables](#categorical-variables)\n",
    "\n",
    "## To Do\n",
    "\n",
    "- continious variables\n",
    "    - Blobs\n",
    "    - Different distributions\n",
    "    - Integer\n",
    "    - Float\n",
    "- categorical variables\n",
    "- Date variables\n",
    "- Text variables\n",
    "- Boolean variables\n",
    "\n",
    "## Notes\n",
    "\n",
    "I'll generate 3 situations:\n",
    "1. a: Simply the data type\n",
    "2. b: Data a little more realistic needing conversion\n",
    "3. c: Messy data needing cleaning\n",
    "\n",
    "## Resources\n",
    "[Sklearn generate datasets](https://scikit-learn.org/stable/datasets/sample_generators.html)\n"
   ]
  },
  {
   "cell_type": "markdown",
   "metadata": {},
   "source": [
    "## Import"
   ]
  },
  {
   "cell_type": "code",
   "execution_count": 17,
   "metadata": {},
   "outputs": [],
   "source": [
    "import pandas as pd\n",
    "import numpy as np\n",
    "\n",
    "from sklearn import datasets"
   ]
  },
  {
   "cell_type": "code",
   "execution_count": 18,
   "metadata": {},
   "outputs": [],
   "source": [
    "class CFG:\n",
    "    n_rows=1000"
   ]
  },
  {
   "cell_type": "markdown",
   "metadata": {},
   "source": [
    "## Boolean variables\n",
    "\n",
    "Let's start with the simplest and create a boolean variable."
   ]
  },
  {
   "cell_type": "code",
   "execution_count": 19,
   "metadata": {},
   "outputs": [
    {
     "data": {
      "text/html": [
       "<div>\n",
       "<style scoped>\n",
       "    .dataframe tbody tr th:only-of-type {\n",
       "        vertical-align: middle;\n",
       "    }\n",
       "\n",
       "    .dataframe tbody tr th {\n",
       "        vertical-align: top;\n",
       "    }\n",
       "\n",
       "    .dataframe thead th {\n",
       "        text-align: right;\n",
       "    }\n",
       "</style>\n",
       "<table border=\"1\" class=\"dataframe\">\n",
       "  <thead>\n",
       "    <tr style=\"text-align: right;\">\n",
       "      <th></th>\n",
       "      <th>bool_simple</th>\n",
       "    </tr>\n",
       "  </thead>\n",
       "  <tbody>\n",
       "    <tr>\n",
       "      <th>0</th>\n",
       "      <td>False</td>\n",
       "    </tr>\n",
       "    <tr>\n",
       "      <th>1</th>\n",
       "      <td>True</td>\n",
       "    </tr>\n",
       "    <tr>\n",
       "      <th>2</th>\n",
       "      <td>True</td>\n",
       "    </tr>\n",
       "  </tbody>\n",
       "</table>\n",
       "</div>"
      ],
      "text/plain": [
       "   bool_simple\n",
       "0        False\n",
       "1         True\n",
       "2         True"
      ]
     },
     "execution_count": 19,
     "metadata": {},
     "output_type": "execute_result"
    }
   ],
   "source": [
    "df_bool_a = pd.DataFrame(np.random.choice([True, False], \n",
    "                                          size=CFG.n_rows),\n",
    "                         columns=['bool_simple'])\n",
    "df_bool_a.head(3)"
   ]
  },
  {
   "cell_type": "markdown",
   "metadata": {},
   "source": [
    "To practice a real world situation, this might start with text which we will need to convert to boolean."
   ]
  },
  {
   "cell_type": "code",
   "execution_count": 20,
   "metadata": {},
   "outputs": [
    {
     "data": {
      "text/html": [
       "<div>\n",
       "<style scoped>\n",
       "    .dataframe tbody tr th:only-of-type {\n",
       "        vertical-align: middle;\n",
       "    }\n",
       "\n",
       "    .dataframe tbody tr th {\n",
       "        vertical-align: top;\n",
       "    }\n",
       "\n",
       "    .dataframe thead th {\n",
       "        text-align: right;\n",
       "    }\n",
       "</style>\n",
       "<table border=\"1\" class=\"dataframe\">\n",
       "  <thead>\n",
       "    <tr style=\"text-align: right;\">\n",
       "      <th></th>\n",
       "      <th>bool_text</th>\n",
       "    </tr>\n",
       "  </thead>\n",
       "  <tbody>\n",
       "    <tr>\n",
       "      <th>0</th>\n",
       "      <td>Inside</td>\n",
       "    </tr>\n",
       "    <tr>\n",
       "      <th>1</th>\n",
       "      <td>Outside</td>\n",
       "    </tr>\n",
       "    <tr>\n",
       "      <th>2</th>\n",
       "      <td>Outside</td>\n",
       "    </tr>\n",
       "  </tbody>\n",
       "</table>\n",
       "</div>"
      ],
      "text/plain": [
       "  bool_text\n",
       "0    Inside\n",
       "1   Outside\n",
       "2   Outside"
      ]
     },
     "execution_count": 20,
     "metadata": {},
     "output_type": "execute_result"
    }
   ],
   "source": [
    "df_bool_b = pd.DataFrame(np.random.choice(['Inside', 'Outside'], \n",
    "                                          size=CFG.n_rows), \n",
    "                         columns=['bool_text'])\n",
    "df_bool_b.head(3)"
   ]
  },
  {
   "cell_type": "markdown",
   "metadata": {},
   "source": [
    "In an even more messy scenario, there might be typos or other renaming of the same value. \n",
    "\n",
    "Example: If an old dataset was combined with a new one and the values were renamed."
   ]
  },
  {
   "cell_type": "code",
   "execution_count": 21,
   "metadata": {},
   "outputs": [],
   "source": [
    "def typo(s: str) -> str:\n",
    "    \"\"\"\n",
    "    Replaces a random character in the input string with a random lowercase letter.\n",
    "\n",
    "    Args:\n",
    "        s (str): The input string.\n",
    "\n",
    "    Returns:\n",
    "        str: The input string with a single character replaced by a random lowercase letter.\n",
    "    \"\"\"\n",
    "    idx = np.random.randint(len(s))\n",
    "    replacement_letter = chr(np.random.choice(range(97, 123)))\n",
    "    return s[:idx] + replacement_letter + s[idx + 1:]"
   ]
  },
  {
   "cell_type": "code",
   "execution_count": 22,
   "metadata": {},
   "outputs": [
    {
     "name": "stdout",
     "output_type": "stream",
     "text": [
      "bool_typo\n",
      "Outside      444\n",
      "Inside       429\n",
      "inside        48\n",
      "outside       46\n",
      "Ivside         1\n",
      "Inpide         1\n",
      "Name: count, dtype: int64\n"
     ]
    },
    {
     "data": {
      "text/html": [
       "<div>\n",
       "<style scoped>\n",
       "    .dataframe tbody tr th:only-of-type {\n",
       "        vertical-align: middle;\n",
       "    }\n",
       "\n",
       "    .dataframe tbody tr th {\n",
       "        vertical-align: top;\n",
       "    }\n",
       "\n",
       "    .dataframe thead th {\n",
       "        text-align: right;\n",
       "    }\n",
       "</style>\n",
       "<table border=\"1\" class=\"dataframe\">\n",
       "  <thead>\n",
       "    <tr style=\"text-align: right;\">\n",
       "      <th></th>\n",
       "      <th>bool_typo</th>\n",
       "    </tr>\n",
       "  </thead>\n",
       "  <tbody>\n",
       "    <tr>\n",
       "      <th>0</th>\n",
       "      <td>Inside</td>\n",
       "    </tr>\n",
       "    <tr>\n",
       "      <th>1</th>\n",
       "      <td>Outside</td>\n",
       "    </tr>\n",
       "    <tr>\n",
       "      <th>2</th>\n",
       "      <td>Inside</td>\n",
       "    </tr>\n",
       "  </tbody>\n",
       "</table>\n",
       "</div>"
      ],
      "text/plain": [
       "  bool_typo\n",
       "0    Inside\n",
       "1   Outside\n",
       "2    Inside"
      ]
     },
     "execution_count": 22,
     "metadata": {},
     "output_type": "execute_result"
    }
   ],
   "source": [
    "# same principle as b for starting point\n",
    "df_bool_c = pd.DataFrame(np.random.choice(['Inside', 'Outside'], \n",
    "                                          size=CFG.n_rows), \n",
    "                         columns=['bool_typo'])\n",
    "\n",
    "# set a random subset\n",
    "mask_case = np.random.choice([True, False], size=CFG.n_rows, p=[0.1, 0.9])\n",
    "mask_typo = np.random.choice([True, False], size=CFG.n_rows, p=[0.05, 0.95])\n",
    "\n",
    "df_bool_c.loc[mask_case, 'bool_typo'] = (df_bool_c.loc[mask_case, 'bool_typo']\n",
    "                                         .str\n",
    "                                         .lower())\n",
    "\n",
    "df_bool_c.loc[mask_typo, 'bool_typo'] = (df_bool_c.loc[mask_typo, 'bool_typo']\n",
    "                                         .apply(typo))\n",
    "\n",
    "print(df_bool_c.value_counts().sort_values(ascending=False)[:6])\n",
    "\n",
    "df_bool_c.head(3)"
   ]
  },
  {
   "cell_type": "markdown",
   "metadata": {},
   "source": [
    "Now we have our boolean examples we can concat them into a single dataframe."
   ]
  },
  {
   "cell_type": "code",
   "execution_count": 23,
   "metadata": {},
   "outputs": [
    {
     "data": {
      "text/html": [
       "<div>\n",
       "<style scoped>\n",
       "    .dataframe tbody tr th:only-of-type {\n",
       "        vertical-align: middle;\n",
       "    }\n",
       "\n",
       "    .dataframe tbody tr th {\n",
       "        vertical-align: top;\n",
       "    }\n",
       "\n",
       "    .dataframe thead th {\n",
       "        text-align: right;\n",
       "    }\n",
       "</style>\n",
       "<table border=\"1\" class=\"dataframe\">\n",
       "  <thead>\n",
       "    <tr style=\"text-align: right;\">\n",
       "      <th></th>\n",
       "      <th>bool_simple</th>\n",
       "      <th>bool_text</th>\n",
       "      <th>bool_typo</th>\n",
       "    </tr>\n",
       "  </thead>\n",
       "  <tbody>\n",
       "    <tr>\n",
       "      <th>0</th>\n",
       "      <td>False</td>\n",
       "      <td>Inside</td>\n",
       "      <td>Inside</td>\n",
       "    </tr>\n",
       "    <tr>\n",
       "      <th>1</th>\n",
       "      <td>True</td>\n",
       "      <td>Outside</td>\n",
       "      <td>Outside</td>\n",
       "    </tr>\n",
       "    <tr>\n",
       "      <th>2</th>\n",
       "      <td>True</td>\n",
       "      <td>Outside</td>\n",
       "      <td>Inside</td>\n",
       "    </tr>\n",
       "  </tbody>\n",
       "</table>\n",
       "</div>"
      ],
      "text/plain": [
       "   bool_simple bool_text bool_typo\n",
       "0        False    Inside    Inside\n",
       "1         True   Outside   Outside\n",
       "2         True   Outside    Inside"
      ]
     },
     "execution_count": 23,
     "metadata": {},
     "output_type": "execute_result"
    }
   ],
   "source": [
    "df_bool = pd.concat([df_bool_a, df_bool_b, df_bool_c], axis=1)\n",
    "df_bool.head(3)"
   ]
  },
  {
   "cell_type": "markdown",
   "metadata": {},
   "source": [
    "## Categorical variables "
   ]
  },
  {
   "cell_type": "code",
   "execution_count": 24,
   "metadata": {},
   "outputs": [
    {
     "data": {
      "text/plain": [
       "CategoricalDtype(categories=['cat', 'dog', 'fish', 'frog'], ordered=False, categories_dtype=object)"
      ]
     },
     "execution_count": 24,
     "metadata": {},
     "output_type": "execute_result"
    }
   ],
   "source": [
    "df_cat_a = pd.DataFrame(np.random.choice(['cat', 'dog', 'fish', 'frog'],\n",
    "                                         size=CFG.n_rows),\n",
    "                        columns=['cat_simple'])\n",
    "df_cat_a = df_cat_a.astype('category')\n",
    "df_cat_a.loc[:, 'cat_simple'].dtype"
   ]
  },
  {
   "cell_type": "markdown",
   "metadata": {},
   "source": [
    "For DataFrame with more columns, it's more conveniant and less error prone to use the following syntax:\n",
    "\n",
    "```df_cat_a = df_cat_a.astype({'cat_simple': 'category'})```\n",
    "\n",
    "It is worth noting that currently using the loc method doesn't seem to update the DataFrame constructor."
   ]
  },
  {
   "cell_type": "code",
   "execution_count": 25,
   "metadata": {},
   "outputs": [
    {
     "name": "stdout",
     "output_type": "stream",
     "text": [
      "object\n"
     ]
    }
   ],
   "source": [
    "# example if interested\n",
    "example = pd.DataFrame(np.random.choice(['cat', 'dog', 'fish', 'frog'],\n",
    "                                         size=CFG.n_rows),\n",
    "                        columns=['cat_simple'])\n",
    "example.loc[:, 'cat_simple'] = example.loc[:, 'cat_simple'].astype('category')\n",
    "print(example.loc[:, 'cat_simple'].dtype)\n",
    "del example"
   ]
  },
  {
   "cell_type": "markdown",
   "metadata": {},
   "source": [
    "Out in the wild, these often get handed over as strings:"
   ]
  },
  {
   "cell_type": "code",
   "execution_count": 26,
   "metadata": {},
   "outputs": [
    {
     "data": {
      "text/plain": [
       "dtype('O')"
      ]
     },
     "execution_count": 26,
     "metadata": {},
     "output_type": "execute_result"
    }
   ],
   "source": [
    "df_cat_b = pd.DataFrame(np.random.choice(['cat', 'dog', 'fish', 'frog'],\n",
    "                                         size=CFG.n_rows),\n",
    "                        columns=['cat_simple'])\n",
    "df_cat_b['cat_simple'].dtype"
   ]
  },
  {
   "cell_type": "markdown",
   "metadata": {},
   "source": [
    "These strings can also have typos:"
   ]
  },
  {
   "cell_type": "code",
   "execution_count": 27,
   "metadata": {},
   "outputs": [],
   "source": [
    "def introduce_typos(text_series, p_cap_error=0.1, p_typo=0.05):\n",
    "    \"\"\"\n",
    "    Introduce typos and capitalization errors into a Pandas Series of strings.\n",
    "    \n",
    "    Parameters:\n",
    "    - text_series: Input series containing strings.\n",
    "    - p_cap_error: Probability of a capitalization error. Default is 0.1.\n",
    "    - p_typo: Probability of a typo. Default is 0.05.\n",
    "    \n",
    "    Returns:\n",
    "    - Series with introduced typos and capitalization errors.\n",
    "    \"\"\"\n",
    "    mask_case = np.random.choice([True, False], \n",
    "                                 size=text_series.shape[0], \n",
    "                                 p=[p_cap_error, 1 - p_cap_error])\n",
    "    mask_typo = np.random.choice([True, False], \n",
    "                                 size=text_series.shape[0], \n",
    "                                 p=[p_typo, 1 - p_typo])\n",
    "    \n",
    "    text_series.loc[mask_case] = text_series.loc[mask_case].str.lower()\n",
    "    text_series.loc[mask_typo] = text_series.loc[mask_typo].apply(typo)\n",
    "    \n",
    "    return text_series\n"
   ]
  },
  {
   "cell_type": "code",
   "execution_count": 28,
   "metadata": {},
   "outputs": [
    {
     "data": {
      "text/html": [
       "<div>\n",
       "<style scoped>\n",
       "    .dataframe tbody tr th:only-of-type {\n",
       "        vertical-align: middle;\n",
       "    }\n",
       "\n",
       "    .dataframe tbody tr th {\n",
       "        vertical-align: top;\n",
       "    }\n",
       "\n",
       "    .dataframe thead th {\n",
       "        text-align: right;\n",
       "    }\n",
       "</style>\n",
       "<table border=\"1\" class=\"dataframe\">\n",
       "  <thead>\n",
       "    <tr style=\"text-align: right;\">\n",
       "      <th></th>\n",
       "      <th>cat_simple</th>\n",
       "    </tr>\n",
       "  </thead>\n",
       "  <tbody>\n",
       "    <tr>\n",
       "      <th>0</th>\n",
       "      <td>cat</td>\n",
       "    </tr>\n",
       "    <tr>\n",
       "      <th>1</th>\n",
       "      <td>cat</td>\n",
       "    </tr>\n",
       "    <tr>\n",
       "      <th>2</th>\n",
       "      <td>frog</td>\n",
       "    </tr>\n",
       "    <tr>\n",
       "      <th>3</th>\n",
       "      <td>dog</td>\n",
       "    </tr>\n",
       "    <tr>\n",
       "      <th>4</th>\n",
       "      <td>bat</td>\n",
       "    </tr>\n",
       "    <tr>\n",
       "      <th>...</th>\n",
       "      <td>...</td>\n",
       "    </tr>\n",
       "    <tr>\n",
       "      <th>995</th>\n",
       "      <td>frog</td>\n",
       "    </tr>\n",
       "    <tr>\n",
       "      <th>996</th>\n",
       "      <td>fish</td>\n",
       "    </tr>\n",
       "    <tr>\n",
       "      <th>997</th>\n",
       "      <td>frog</td>\n",
       "    </tr>\n",
       "    <tr>\n",
       "      <th>998</th>\n",
       "      <td>cat</td>\n",
       "    </tr>\n",
       "    <tr>\n",
       "      <th>999</th>\n",
       "      <td>cat</td>\n",
       "    </tr>\n",
       "  </tbody>\n",
       "</table>\n",
       "<p>1000 rows × 1 columns</p>\n",
       "</div>"
      ],
      "text/plain": [
       "    cat_simple\n",
       "0          cat\n",
       "1          cat\n",
       "2         frog\n",
       "3          dog\n",
       "4          bat\n",
       "..         ...\n",
       "995       frog\n",
       "996       fish\n",
       "997       frog\n",
       "998        cat\n",
       "999        cat\n",
       "\n",
       "[1000 rows x 1 columns]"
      ]
     },
     "execution_count": 28,
     "metadata": {},
     "output_type": "execute_result"
    }
   ],
   "source": [
    "df_cat_c = pd.DataFrame(np.random.choice(['cat', 'dog', 'fish', 'frog'],\n",
    "                                         size=CFG.n_rows),\n",
    "                        columns=['cat_simple'])\n",
    "df_cat_c['cat_simple'] = introduce_typos(df_cat_c['cat_simple'])\n",
    "df_cat_c"
   ]
  },
  {
   "cell_type": "code",
   "execution_count": null,
   "metadata": {},
   "outputs": [],
   "source": []
  },
  {
   "cell_type": "markdown",
   "metadata": {},
   "source": [
    "## Continious Variables"
   ]
  },
  {
   "cell_type": "markdown",
   "metadata": {},
   "source": []
  },
  {
   "cell_type": "code",
   "execution_count": null,
   "metadata": {},
   "outputs": [],
   "source": []
  }
 ],
 "metadata": {
  "kernelspec": {
   "display_name": "envlearn",
   "language": "python",
   "name": "python3"
  },
  "language_info": {
   "codemirror_mode": {
    "name": "ipython",
    "version": 3
   },
   "file_extension": ".py",
   "mimetype": "text/x-python",
   "name": "python",
   "nbconvert_exporter": "python",
   "pygments_lexer": "ipython3",
   "version": "3.11.2"
  },
  "orig_nbformat": 4
 },
 "nbformat": 4,
 "nbformat_minor": 2
}
