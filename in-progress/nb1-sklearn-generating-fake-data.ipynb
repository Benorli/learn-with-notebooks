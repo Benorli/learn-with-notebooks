{
 "cells": [
  {
   "cell_type": "markdown",
   "metadata": {},
   "source": [
    "# Generating Fake Data with Scikit-Learn\n",
    "\n",
    "*Many* libraries including sklearn and pytorch allow you to import real world datasets to test.\n",
    "\n",
    "However, sometimes it helps to generate data with specific properties you are interested in. For learning and reimmersion it can be beneficial to add random inputs to your data generation function, generate a new dataset and practice your skills on it.\n",
    "\n",
    "## Contents\n",
    "\n",
    "[Import](#import) <br>\n",
    "[Boolean variables](#boolean-variables) <br>\n",
    "[Categorical variables](#categorical-variables)\n",
    "\n",
    "## To Do\n",
    "\n",
    "- continious variables\n",
    "    - Blobs\n",
    "    - Different distributions\n",
    "    - Integer\n",
    "    - Float\n",
    "- categorical variables\n",
    "- Date variables\n",
    "- Text variables\n",
    "- Boolean variables\n",
    "\n",
    "## Notes\n",
    "\n",
    "I'll generate 3 situations:\n",
    "1. a: Simply the data type\n",
    "2. b: Data a little more realistic needing conversion\n",
    "3. c: Messy data needing cleaning\n",
    "\n",
    "## Resources\n",
    "[Sklearn generate datasets](https://scikit-learn.org/stable/datasets/sample_generators.html)\n"
   ]
  },
  {
   "cell_type": "markdown",
   "metadata": {},
   "source": [
    "## Import"
   ]
  },
  {
   "cell_type": "code",
   "execution_count": 1,
   "metadata": {},
   "outputs": [],
   "source": [
    "import pandas as pd\n",
    "import numpy as np\n",
    "\n",
    "from sklearn import datasets"
   ]
  },
  {
   "cell_type": "code",
   "execution_count": 2,
   "metadata": {},
   "outputs": [],
   "source": [
    "class CFG:\n",
    "    n_rows=1000"
   ]
  },
  {
   "cell_type": "markdown",
   "metadata": {},
   "source": [
    "## Boolean variables\n",
    "\n",
    "Let's start with the simplest and create a boolean variable."
   ]
  },
  {
   "cell_type": "code",
   "execution_count": 3,
   "metadata": {},
   "outputs": [
    {
     "data": {
      "text/html": [
       "<div>\n",
       "<style scoped>\n",
       "    .dataframe tbody tr th:only-of-type {\n",
       "        vertical-align: middle;\n",
       "    }\n",
       "\n",
       "    .dataframe tbody tr th {\n",
       "        vertical-align: top;\n",
       "    }\n",
       "\n",
       "    .dataframe thead th {\n",
       "        text-align: right;\n",
       "    }\n",
       "</style>\n",
       "<table border=\"1\" class=\"dataframe\">\n",
       "  <thead>\n",
       "    <tr style=\"text-align: right;\">\n",
       "      <th></th>\n",
       "      <th>bool_simple</th>\n",
       "    </tr>\n",
       "  </thead>\n",
       "  <tbody>\n",
       "    <tr>\n",
       "      <th>0</th>\n",
       "      <td>True</td>\n",
       "    </tr>\n",
       "    <tr>\n",
       "      <th>1</th>\n",
       "      <td>False</td>\n",
       "    </tr>\n",
       "    <tr>\n",
       "      <th>2</th>\n",
       "      <td>True</td>\n",
       "    </tr>\n",
       "    <tr>\n",
       "      <th>3</th>\n",
       "      <td>False</td>\n",
       "    </tr>\n",
       "    <tr>\n",
       "      <th>4</th>\n",
       "      <td>False</td>\n",
       "    </tr>\n",
       "  </tbody>\n",
       "</table>\n",
       "</div>"
      ],
      "text/plain": [
       "   bool_simple\n",
       "0         True\n",
       "1        False\n",
       "2         True\n",
       "3        False\n",
       "4        False"
      ]
     },
     "execution_count": 3,
     "metadata": {},
     "output_type": "execute_result"
    }
   ],
   "source": [
    "df_bool_a = pd.DataFrame(np.random.choice([True, False], \n",
    "                                          size=CFG.n_rows),\n",
    "                         columns=['bool_simple'])\n",
    "df_bool_a.head()"
   ]
  },
  {
   "cell_type": "markdown",
   "metadata": {},
   "source": [
    "To practice a real world situation, this might start with text which we will need to convert to boolean."
   ]
  },
  {
   "cell_type": "code",
   "execution_count": 4,
   "metadata": {},
   "outputs": [
    {
     "data": {
      "text/html": [
       "<div>\n",
       "<style scoped>\n",
       "    .dataframe tbody tr th:only-of-type {\n",
       "        vertical-align: middle;\n",
       "    }\n",
       "\n",
       "    .dataframe tbody tr th {\n",
       "        vertical-align: top;\n",
       "    }\n",
       "\n",
       "    .dataframe thead th {\n",
       "        text-align: right;\n",
       "    }\n",
       "</style>\n",
       "<table border=\"1\" class=\"dataframe\">\n",
       "  <thead>\n",
       "    <tr style=\"text-align: right;\">\n",
       "      <th></th>\n",
       "      <th>bool_text</th>\n",
       "    </tr>\n",
       "  </thead>\n",
       "  <tbody>\n",
       "    <tr>\n",
       "      <th>0</th>\n",
       "      <td>Outside</td>\n",
       "    </tr>\n",
       "    <tr>\n",
       "      <th>1</th>\n",
       "      <td>Inside</td>\n",
       "    </tr>\n",
       "    <tr>\n",
       "      <th>2</th>\n",
       "      <td>Outside</td>\n",
       "    </tr>\n",
       "    <tr>\n",
       "      <th>3</th>\n",
       "      <td>Outside</td>\n",
       "    </tr>\n",
       "    <tr>\n",
       "      <th>4</th>\n",
       "      <td>Outside</td>\n",
       "    </tr>\n",
       "  </tbody>\n",
       "</table>\n",
       "</div>"
      ],
      "text/plain": [
       "  bool_text\n",
       "0   Outside\n",
       "1    Inside\n",
       "2   Outside\n",
       "3   Outside\n",
       "4   Outside"
      ]
     },
     "execution_count": 4,
     "metadata": {},
     "output_type": "execute_result"
    }
   ],
   "source": [
    "df_bool_b = pd.DataFrame(np.random.choice(['Inside', 'Outside'], \n",
    "                                          size=CFG.n_rows), \n",
    "                         columns=['bool_text'])\n",
    "df_bool_b.head()"
   ]
  },
  {
   "cell_type": "markdown",
   "metadata": {},
   "source": [
    "In an even more messy scenario, there might be typos or other renaming of the same value. \n",
    "\n",
    "Example: If an old dataset was combined with a new one and the values were renamed."
   ]
  },
  {
   "cell_type": "code",
   "execution_count": 5,
   "metadata": {},
   "outputs": [],
   "source": [
    "def typo(s):\n",
    "    \"\"\"\n",
    "    Replaces a random character in the input string with a random lowercase letter.\n",
    "\n",
    "    Args:\n",
    "        s (str): The input string.\n",
    "\n",
    "    Returns:\n",
    "        str: The input string with a single character replaced by a random lowercase letter.\n",
    "    \"\"\"\n",
    "    idx = np.random.randint(len(s))\n",
    "    replacement_letter = chr(np.random.choice(range(97, 123)))\n",
    "    return s[:idx] + replacement_letter + s[idx + 1:]"
   ]
  },
  {
   "cell_type": "code",
   "execution_count": 11,
   "metadata": {},
   "outputs": [
    {
     "name": "stdout",
     "output_type": "stream",
     "text": [
      "bool_typo\n",
      "Outside      436\n",
      "Inside       417\n",
      "outside       52\n",
      "inside        51\n",
      "dnside         2\n",
      "Ohtside        2\n",
      "Name: count, dtype: int64\n"
     ]
    },
    {
     "data": {
      "text/html": [
       "<div>\n",
       "<style scoped>\n",
       "    .dataframe tbody tr th:only-of-type {\n",
       "        vertical-align: middle;\n",
       "    }\n",
       "\n",
       "    .dataframe tbody tr th {\n",
       "        vertical-align: top;\n",
       "    }\n",
       "\n",
       "    .dataframe thead th {\n",
       "        text-align: right;\n",
       "    }\n",
       "</style>\n",
       "<table border=\"1\" class=\"dataframe\">\n",
       "  <thead>\n",
       "    <tr style=\"text-align: right;\">\n",
       "      <th></th>\n",
       "      <th>bool_typo</th>\n",
       "    </tr>\n",
       "  </thead>\n",
       "  <tbody>\n",
       "    <tr>\n",
       "      <th>0</th>\n",
       "      <td>Inside</td>\n",
       "    </tr>\n",
       "    <tr>\n",
       "      <th>1</th>\n",
       "      <td>Outside</td>\n",
       "    </tr>\n",
       "    <tr>\n",
       "      <th>2</th>\n",
       "      <td>Inside</td>\n",
       "    </tr>\n",
       "    <tr>\n",
       "      <th>3</th>\n",
       "      <td>Outside</td>\n",
       "    </tr>\n",
       "    <tr>\n",
       "      <th>4</th>\n",
       "      <td>Inside</td>\n",
       "    </tr>\n",
       "  </tbody>\n",
       "</table>\n",
       "</div>"
      ],
      "text/plain": [
       "  bool_typo\n",
       "0    Inside\n",
       "1   Outside\n",
       "2    Inside\n",
       "3   Outside\n",
       "4    Inside"
      ]
     },
     "execution_count": 11,
     "metadata": {},
     "output_type": "execute_result"
    }
   ],
   "source": [
    "# same principle as b for starting point\n",
    "df_bool_c = pd.DataFrame(np.random.choice(['Inside', 'Outside'], \n",
    "                                          size=CFG.n_rows), \n",
    "                         columns=['bool_typo'])\n",
    "\n",
    "# set a random subset\n",
    "mask_case = np.random.choice([True, False], size=CFG.n_rows, p=[0.1, 0.9])\n",
    "mask_typo = np.random.choice([True, False], size=CFG.n_rows, p=[0.05, 0.95])\n",
    "\n",
    "df_bool_c.loc[mask_case, 'bool_typo'] = (df_bool_c.loc[mask_case, 'bool_typo']\n",
    "                                         .str\n",
    "                                         .lower())\n",
    "\n",
    "df_bool_c.loc[mask_typo, 'bool_typo'] = (df_bool_c.loc[mask_typo, 'bool_typo']\n",
    "                                         .apply(typo))\n",
    "\n",
    "print(df_bool_c.value_counts().sort_values(ascending=False)[:6])\n",
    "\n",
    "df_bool_c.head()"
   ]
  },
  {
   "cell_type": "markdown",
   "metadata": {},
   "source": [
    "Now we have our boolean examples we can concat them into a single dataframe."
   ]
  },
  {
   "cell_type": "code",
   "execution_count": 12,
   "metadata": {},
   "outputs": [
    {
     "data": {
      "text/html": [
       "<div>\n",
       "<style scoped>\n",
       "    .dataframe tbody tr th:only-of-type {\n",
       "        vertical-align: middle;\n",
       "    }\n",
       "\n",
       "    .dataframe tbody tr th {\n",
       "        vertical-align: top;\n",
       "    }\n",
       "\n",
       "    .dataframe thead th {\n",
       "        text-align: right;\n",
       "    }\n",
       "</style>\n",
       "<table border=\"1\" class=\"dataframe\">\n",
       "  <thead>\n",
       "    <tr style=\"text-align: right;\">\n",
       "      <th></th>\n",
       "      <th>bool_simple</th>\n",
       "      <th>bool_text</th>\n",
       "      <th>bool_typo</th>\n",
       "    </tr>\n",
       "  </thead>\n",
       "  <tbody>\n",
       "    <tr>\n",
       "      <th>0</th>\n",
       "      <td>True</td>\n",
       "      <td>Outside</td>\n",
       "      <td>Inside</td>\n",
       "    </tr>\n",
       "    <tr>\n",
       "      <th>1</th>\n",
       "      <td>False</td>\n",
       "      <td>Inside</td>\n",
       "      <td>Outside</td>\n",
       "    </tr>\n",
       "    <tr>\n",
       "      <th>2</th>\n",
       "      <td>True</td>\n",
       "      <td>Outside</td>\n",
       "      <td>Inside</td>\n",
       "    </tr>\n",
       "    <tr>\n",
       "      <th>3</th>\n",
       "      <td>False</td>\n",
       "      <td>Outside</td>\n",
       "      <td>Outside</td>\n",
       "    </tr>\n",
       "    <tr>\n",
       "      <th>4</th>\n",
       "      <td>False</td>\n",
       "      <td>Outside</td>\n",
       "      <td>Inside</td>\n",
       "    </tr>\n",
       "  </tbody>\n",
       "</table>\n",
       "</div>"
      ],
      "text/plain": [
       "   bool_simple bool_text bool_typo\n",
       "0         True   Outside    Inside\n",
       "1        False    Inside   Outside\n",
       "2         True   Outside    Inside\n",
       "3        False   Outside   Outside\n",
       "4        False   Outside    Inside"
      ]
     },
     "execution_count": 12,
     "metadata": {},
     "output_type": "execute_result"
    }
   ],
   "source": [
    "df_bool = pd.concat([df_bool_a, df_bool_b, df_bool_c], axis=1)\n",
    "df_bool.head()"
   ]
  },
  {
   "cell_type": "markdown",
   "metadata": {},
   "source": [
    "## Categorical variables "
   ]
  },
  {
   "cell_type": "markdown",
   "metadata": {},
   "source": [
    "## Continious Variables"
   ]
  },
  {
   "cell_type": "markdown",
   "metadata": {},
   "source": []
  },
  {
   "cell_type": "code",
   "execution_count": null,
   "metadata": {},
   "outputs": [],
   "source": []
  }
 ],
 "metadata": {
  "kernelspec": {
   "display_name": "envlearn",
   "language": "python",
   "name": "python3"
  },
  "language_info": {
   "codemirror_mode": {
    "name": "ipython",
    "version": 3
   },
   "file_extension": ".py",
   "mimetype": "text/x-python",
   "name": "python",
   "nbconvert_exporter": "python",
   "pygments_lexer": "ipython3",
   "version": "3.11.2"
  },
  "orig_nbformat": 4
 },
 "nbformat": 4,
 "nbformat_minor": 2
}
