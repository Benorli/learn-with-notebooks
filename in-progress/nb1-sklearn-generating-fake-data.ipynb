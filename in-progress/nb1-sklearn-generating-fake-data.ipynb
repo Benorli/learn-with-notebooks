{
 "cells": [
  {
   "cell_type": "markdown",
   "metadata": {},
   "source": [
    "# Generating Fake Data with Scikit-Learn\n",
    "\n",
    "*Many* libraries including sklearn and pytorch allow you to import real world datasets to test.\n",
    "\n",
    "However, sometimes it helps to generate data with specific properties you are interested in. For learning and reimmersion it can be beneficial to add random inputs to your data generation function, generate a new dataset and practice your skills on it.\n",
    "\n",
    "## Contents\n",
    "\n",
    "[Import](#import) <br>\n",
    "[Boolean variables](#boolean-variables)\n",
    "\n",
    "## To Do\n",
    "\n",
    "- continious variables\n",
    "    - Blobs\n",
    "    - Different distributions\n",
    "    - Integer\n",
    "    - Float\n",
    "- categorical variables\n",
    "- Date variables\n",
    "- Text variables\n",
    "- Boolean variables\n",
    "\n",
    "## Notes\n",
    "\n",
    "I'll generate 3 situations:\n",
    "1. a: Simply the data type\n",
    "2. b: Data a little more realistic needing conversion\n",
    "3. c: Messy data needing cleaning\n",
    "\n",
    "## Resources\n",
    "[Sklearn generate datasets](https://scikit-learn.org/stable/datasets/sample_generators.html)\n"
   ]
  },
  {
   "cell_type": "markdown",
   "metadata": {},
   "source": [
    "## Import"
   ]
  },
  {
   "cell_type": "code",
   "execution_count": 20,
   "metadata": {},
   "outputs": [],
   "source": [
    "import pandas as pd\n",
    "import numpy as np\n",
    "\n",
    "from sklearn import datasets"
   ]
  },
  {
   "cell_type": "code",
   "execution_count": 21,
   "metadata": {},
   "outputs": [],
   "source": [
    "class CFG:\n",
    "    n_rows=1000"
   ]
  },
  {
   "cell_type": "markdown",
   "metadata": {},
   "source": [
    "## Boolean variables\n",
    "\n",
    "Let's start with the simplest and create a boolean variable."
   ]
  },
  {
   "cell_type": "code",
   "execution_count": 23,
   "metadata": {},
   "outputs": [
    {
     "data": {
      "text/html": [
       "<div>\n",
       "<style scoped>\n",
       "    .dataframe tbody tr th:only-of-type {\n",
       "        vertical-align: middle;\n",
       "    }\n",
       "\n",
       "    .dataframe tbody tr th {\n",
       "        vertical-align: top;\n",
       "    }\n",
       "\n",
       "    .dataframe thead th {\n",
       "        text-align: right;\n",
       "    }\n",
       "</style>\n",
       "<table border=\"1\" class=\"dataframe\">\n",
       "  <thead>\n",
       "    <tr style=\"text-align: right;\">\n",
       "      <th></th>\n",
       "      <th>bool_simple</th>\n",
       "    </tr>\n",
       "  </thead>\n",
       "  <tbody>\n",
       "    <tr>\n",
       "      <th>0</th>\n",
       "      <td>1</td>\n",
       "    </tr>\n",
       "    <tr>\n",
       "      <th>1</th>\n",
       "      <td>0</td>\n",
       "    </tr>\n",
       "    <tr>\n",
       "      <th>2</th>\n",
       "      <td>0</td>\n",
       "    </tr>\n",
       "    <tr>\n",
       "      <th>3</th>\n",
       "      <td>0</td>\n",
       "    </tr>\n",
       "    <tr>\n",
       "      <th>4</th>\n",
       "      <td>0</td>\n",
       "    </tr>\n",
       "  </tbody>\n",
       "</table>\n",
       "</div>"
      ],
      "text/plain": [
       "   bool_simple\n",
       "0            1\n",
       "1            0\n",
       "2            0\n",
       "3            0\n",
       "4            0"
      ]
     },
     "execution_count": 23,
     "metadata": {},
     "output_type": "execute_result"
    }
   ],
   "source": [
    "df_bool_a = pd.DataFrame(np.random.randint(0, 2, \n",
    "                                           size=CFG.n_rows), \n",
    "                         columns=['bool_simple'])\n",
    "df_bool_a.head()"
   ]
  },
  {
   "cell_type": "markdown",
   "metadata": {},
   "source": [
    "To practice a real world situation, this might start text which we will need to convert to boolean."
   ]
  },
  {
   "cell_type": "code",
   "execution_count": 25,
   "metadata": {},
   "outputs": [
    {
     "data": {
      "text/html": [
       "<div>\n",
       "<style scoped>\n",
       "    .dataframe tbody tr th:only-of-type {\n",
       "        vertical-align: middle;\n",
       "    }\n",
       "\n",
       "    .dataframe tbody tr th {\n",
       "        vertical-align: top;\n",
       "    }\n",
       "\n",
       "    .dataframe thead th {\n",
       "        text-align: right;\n",
       "    }\n",
       "</style>\n",
       "<table border=\"1\" class=\"dataframe\">\n",
       "  <thead>\n",
       "    <tr style=\"text-align: right;\">\n",
       "      <th></th>\n",
       "      <th>bool_text</th>\n",
       "    </tr>\n",
       "  </thead>\n",
       "  <tbody>\n",
       "    <tr>\n",
       "      <th>0</th>\n",
       "      <td>Outside</td>\n",
       "    </tr>\n",
       "    <tr>\n",
       "      <th>1</th>\n",
       "      <td>Inside</td>\n",
       "    </tr>\n",
       "    <tr>\n",
       "      <th>2</th>\n",
       "      <td>Inside</td>\n",
       "    </tr>\n",
       "    <tr>\n",
       "      <th>3</th>\n",
       "      <td>Inside</td>\n",
       "    </tr>\n",
       "    <tr>\n",
       "      <th>4</th>\n",
       "      <td>Inside</td>\n",
       "    </tr>\n",
       "  </tbody>\n",
       "</table>\n",
       "</div>"
      ],
      "text/plain": [
       "  bool_text\n",
       "0   Outside\n",
       "1    Inside\n",
       "2    Inside\n",
       "3    Inside\n",
       "4    Inside"
      ]
     },
     "execution_count": 25,
     "metadata": {},
     "output_type": "execute_result"
    }
   ],
   "source": [
    "df_bool_b = pd.DataFrame(np.random.choice(['Inside', 'Outside'], \n",
    "                                          size=CFG.n_rows), \n",
    "                         columns=['bool_text'])\n",
    "df_bool_b.head()"
   ]
  },
  {
   "cell_type": "markdown",
   "metadata": {},
   "source": [
    "In an even more messy scenario, there might be missplellings or other renaming of the same value. \n",
    "\n",
    "Example: If an old dataset was combined with a new one and the values were renamed."
   ]
  },
  {
   "cell_type": "code",
   "execution_count": 26,
   "metadata": {},
   "outputs": [],
   "source": [
    "# start with a copy instead\n",
    "# in_out = np.random.choice(['Inside', 'Outside'], size=CFG.n_rows)\n",
    "\n",
    "# set a random subset\n",
    "# create a function to rename them\n",
    "\n",
    "# Rename a random letter in a random subset of the strings\n",
    "# in_out[np.random.choice(np.arange(CFG.n_rows), \n",
    "#                         size=int(CFG.n_rows/10))] = \\\n",
    "#     [s[:np.random.choice(np.arange(len(s)))] + \n",
    "#      np.random.choice(list('abcdefghijklmnopqrstuvwxyz')) + \n",
    "#      s[np.random.choice(np.arange(len(s)))+1:] \n",
    "#      for s in in_out[np.random.choice(np.arange(CFG.n_rows), \n",
    "#                                       size=int(CFG.n_rows/10))]]"
   ]
  },
  {
   "cell_type": "markdown",
   "metadata": {},
   "source": [
    "## Continious Variables"
   ]
  },
  {
   "cell_type": "markdown",
   "metadata": {},
   "source": []
  },
  {
   "cell_type": "code",
   "execution_count": null,
   "metadata": {},
   "outputs": [],
   "source": []
  }
 ],
 "metadata": {
  "kernelspec": {
   "display_name": "envlearn",
   "language": "python",
   "name": "python3"
  },
  "language_info": {
   "codemirror_mode": {
    "name": "ipython",
    "version": 3
   },
   "file_extension": ".py",
   "mimetype": "text/x-python",
   "name": "python",
   "nbconvert_exporter": "python",
   "pygments_lexer": "ipython3",
   "version": "3.11.2"
  },
  "orig_nbformat": 4
 },
 "nbformat": 4,
 "nbformat_minor": 2
}
